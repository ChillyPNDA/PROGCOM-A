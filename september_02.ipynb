{
  "nbformat": 4,
  "nbformat_minor": 0,
  "metadata": {
    "colab": {
      "provenance": [],
      "include_colab_link": true
    },
    "kernelspec": {
      "name": "python3",
      "display_name": "Python 3"
    },
    "language_info": {
      "name": "python"
    }
  },
  "cells": [
    {
      "cell_type": "markdown",
      "metadata": {
        "id": "view-in-github",
        "colab_type": "text"
      },
      "source": [
        "<a href=\"https://colab.research.google.com/github/ChillyPNDA/PROGCOM-A/blob/main/september_02.ipynb\" target=\"_parent\"><img src=\"https://colab.research.google.com/assets/colab-badge.svg\" alt=\"Open In Colab\"/></a>"
      ]
    },
    {
      "cell_type": "markdown",
      "source": [
        "1. list()\n",
        "2. len()\n",
        "3.print()\n",
        "4. append()#POO método\n",
        "5. int()\n",
        "6. input()\n"
      ],
      "metadata": {
        "id": "BpwxhfUT41U0"
      }
    },
    {
      "cell_type": "markdown",
      "source": [
        "##Tipos de funciones\n",
        "1. Sin parámetros, sin retorno\n",
        "2. Sin parámetros, con retorno\n",
        "3. Con parámetros, sin retorno\n",
        "4. Con parámetros, con retorno"
      ],
      "metadata": {
        "id": "bKNSMz836AtN"
      }
    },
    {
      "cell_type": "markdown",
      "source": [
        "###1. Sin parámetros, sin retorno\n",
        "se emplea como copiado dinámico"
      ],
      "metadata": {
        "id": "-CXRQFWF6nNr"
      }
    },
    {
      "cell_type": "code",
      "execution_count": null,
      "metadata": {
        "id": "xhXmjGDo4y0f"
      },
      "outputs": [],
      "source": [
        "#ejemplo: entrada de cajero electrónico\n",
        "def cajero():# Esto significa que es sin parámetros\n",
        " print(\"Bienvenido a DaviUNAB\")\n",
        " print(\"Estas son las operaciones que puede realizar:\")\n",
        " print(\"1. Retirar\\n2. Transferencia\\n3. Denunciar\\n4. Operaciones sin tarjeta\")"
      ]
    },
    {
      "cell_type": "code",
      "source": [
        "cajero()"
      ],
      "metadata": {
        "colab": {
          "base_uri": "https://localhost:8080/"
        },
        "id": "Nt5KOCyB7rMy",
        "outputId": "7380b18d-a7e2-4aec-98ec-a23e1f7b971e"
      },
      "execution_count": null,
      "outputs": [
        {
          "output_type": "stream",
          "name": "stdout",
          "text": [
            "Bienvenido a DaviUNAB\n",
            "Estas son las operaciones que puede realizar:\n",
            "1. Retirar\n",
            "2. Transferencia\n",
            "3. Denunciar\n",
            "4. Operaciones sin tarjeta\n"
          ]
        }
      ]
    },
    {
      "cell_type": "markdown",
      "source": [
        "###2. Sin parametros con retorno"
      ],
      "metadata": {
        "id": "Mi2do22e9ICA"
      }
    },
    {
      "cell_type": "code",
      "source": [
        "def cajero2():# Esto significa que es sin parámetros\n",
        " print(\"Bienvenido a DaviUNAB\")\n",
        " print(\"Estas son las operaciones que puede realizar:\")\n",
        " print(\"1. Retirar\\n2. Transferencia\\n3. Denunciar\\n4. Operaciones sin tarjeta\")\n",
        " rta=input(\"ingrese una opción\")#Variable local"
      ],
      "metadata": {
        "id": "BTs4mNgt9FtJ"
      },
      "execution_count": null,
      "outputs": []
    },
    {
      "cell_type": "code",
      "source": [
        "rta=cajero2()"
      ],
      "metadata": {
        "colab": {
          "base_uri": "https://localhost:8080/"
        },
        "id": "SARVvCS791-o",
        "outputId": "40d7f3ae-83ae-44aa-90a6-e7c78388c61d"
      },
      "execution_count": null,
      "outputs": [
        {
          "output_type": "stream",
          "name": "stdout",
          "text": [
            "Bienvenido a DaviUNAB\n",
            "Estas son las operaciones que puede realizar:\n",
            "1. Retirar\n",
            "2. Transferencia\n",
            "3. Denunciar\n",
            "4. Operaciones sin tarjeta\n"
          ]
        }
      ]
    },
    {
      "cell_type": "code",
      "source": [
        "type(rta)"
      ],
      "metadata": {
        "id": "SqmnoRVw_E6d"
      },
      "execution_count": null,
      "outputs": []
    },
    {
      "cell_type": "markdown",
      "source": [
        "###3. Con parámetros, sin retorno"
      ],
      "metadata": {
        "id": "eIl6gr7b_eVT"
      }
    },
    {
      "cell_type": "code",
      "source": [
        " ###Ejemplo 3. el área de un rectángulo\n",
        "def ab(u,du):\n",
        "  print(f\"El área de un rectángulo de lado{u} y altura {du} es {u*du}\")"
      ],
      "metadata": {
        "id": "WKyWERsD_mHu"
      },
      "execution_count": null,
      "outputs": []
    },
    {
      "cell_type": "code",
      "source": [
        "ab(2,3)"
      ],
      "metadata": {
        "id": "LojN3FqIAAGS"
      },
      "execution_count": null,
      "outputs": []
    },
    {
      "cell_type": "code",
      "source": [
        "a=ab(2,3)"
      ],
      "metadata": {
        "id": "Sn1Y1cq6AalC"
      },
      "execution_count": null,
      "outputs": []
    },
    {
      "cell_type": "code",
      "source": [
        "print(a)"
      ],
      "metadata": {
        "id": "KMLXEb6jAdyp"
      },
      "execution_count": null,
      "outputs": []
    },
    {
      "cell_type": "markdown",
      "source": [
        "#4. con parámetro, retorno"
      ],
      "metadata": {
        "id": "AAxUG_TzBH86"
      }
    },
    {
      "cell_type": "code",
      "source": [
        "###Ejemplo 3. el área de un rectángulo\n",
        "def area_rectángulo(u,du):\n",
        "  return (f\"El área de un rectángulo de lado{u} y altura {du} es {u*du}\")"
      ],
      "metadata": {
        "id": "cXWXvWhlBKkR"
      },
      "execution_count": null,
      "outputs": []
    },
    {
      "cell_type": "code",
      "source": [
        "a=area_rectángulo(10,15)"
      ],
      "metadata": {
        "id": "9Vru_57JBZjp"
      },
      "execution_count": null,
      "outputs": []
    },
    {
      "cell_type": "code",
      "source": [
        "print(a)"
      ],
      "metadata": {
        "colab": {
          "base_uri": "https://localhost:8080/"
        },
        "id": "6KxBJgjdBdlC",
        "outputId": "6b1a179e-e4fa-4378-8be9-d4561989e40b"
      },
      "execution_count": null,
      "outputs": [
        {
          "output_type": "stream",
          "name": "stdout",
          "text": [
            "El área de un rectángulo de lado10 y altura 15 es 150\n"
          ]
        }
      ]
    },
    {
      "cell_type": "markdown",
      "source": [
        "##FUNCIONES ANONIMOS O LAMBDA\n",
        "\n",
        "\n",
        "\n",
        "1.   Siempre usan parámetros\n",
        "2.   SIempre genera retorno\n",
        "3. No tienen nombre --> anónimas\n",
        "4. **Se puede emplear n parámetros, pero solo ejecuta una\n",
        "línea de código**\n",
        "\n",
        "###Definición de funciones LAMBDA\n",
        "```\n",
        "variable=lambda(p, p1,p2...pn):\n",
        "operación\n",
        "\n",
        "```\n",
        "\n",
        "\n"
      ],
      "metadata": {
        "id": "AaH4UnZkDDMJ"
      }
    },
    {
      "cell_type": "code",
      "source": [
        "#Ejemplo: calcular el área de un triángulo\n",
        "area_triangulo= lambda a,b:a*b/2"
      ],
      "metadata": {
        "id": "SGYyZKIcESqd"
      },
      "execution_count": null,
      "outputs": []
    },
    {
      "cell_type": "code",
      "source": [
        "area_triangulo(3,8)"
      ],
      "metadata": {
        "colab": {
          "base_uri": "https://localhost:8080/"
        },
        "id": "w5tdZQeTEvam",
        "outputId": "52df61ab-e5af-4653-bf9b-e04a1e47e892"
      },
      "execution_count": null,
      "outputs": [
        {
          "output_type": "execute_result",
          "data": {
            "text/plain": [
              "12.0"
            ]
          },
          "metadata": {},
          "execution_count": 6
        }
      ]
    },
    {
      "cell_type": "code",
      "source": [
        "x=int(input(\"ingrese la altura de un triangulo\"))\n",
        "y=int(input(\"ingrese la base de un triangulo\"))\n",
        "area_triangulo(x,y)"
      ],
      "metadata": {
        "id": "xMhsrZ0uFJvF"
      },
      "execution_count": null,
      "outputs": []
    },
    {
      "cell_type": "markdown",
      "source": [
        "##COMO HACER UNA FUNCION ANÓNIMA PARA CALCULAR EL AREA D EUN CIRCULO\n",
        "#quest obligatoria"
      ],
      "metadata": {
        "id": "nYznDUc-GNFV"
      }
    },
    {
      "cell_type": "code",
      "source": [
        "#Ejemplo: calcular el área de un triángulo\n",
        "area_circulo= lambda r:3.14*r**2\n",
        "area_circulo(12)"
      ],
      "metadata": {
        "colab": {
          "base_uri": "https://localhost:8080/"
        },
        "id": "iOqVlVGIGRb0",
        "outputId": "58d9b968-4cbd-4fa8-d32b-de3fa14ddd70"
      },
      "execution_count": null,
      "outputs": [
        {
          "output_type": "execute_result",
          "data": {
            "text/plain": [
              "452.16"
            ]
          },
          "metadata": {},
          "execution_count": 8
        }
      ]
    }
  ]
}