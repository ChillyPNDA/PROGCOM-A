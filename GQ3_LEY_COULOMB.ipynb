{
  "nbformat": 4,
  "nbformat_minor": 0,
  "metadata": {
    "colab": {
      "provenance": [],
      "authorship_tag": "ABX9TyOROmJb/HJEVSsOik9SIRsY",
      "include_colab_link": true
    },
    "kernelspec": {
      "name": "python3",
      "display_name": "Python 3"
    },
    "language_info": {
      "name": "python"
    }
  },
  "cells": [
    {
      "cell_type": "markdown",
      "metadata": {
        "id": "view-in-github",
        "colab_type": "text"
      },
      "source": [
        "<a href=\"https://colab.research.google.com/github/ChillyPNDA/PROGCOM-A/blob/main/GQ3_LEY_COULOMB.ipynb\" target=\"_parent\"><img src=\"https://colab.research.google.com/assets/colab-badge.svg\" alt=\"Open In Colab\"/></a>"
      ]
    },
    {
      "cell_type": "code",
      "execution_count": 1,
      "metadata": {
        "colab": {
          "base_uri": "https://localhost:8080/"
        },
        "id": "pWVQ2hUvxd2v",
        "outputId": "c91b6f87-6b06-4e94-a18a-71d0277d9330"
      },
      "outputs": [
        {
          "output_type": "stream",
          "name": "stdout",
          "text": [
            "=== Calculadora Ley de Coulomb ===\n",
            "F = k * (q1 * q2) / r²\n",
            "Donde:\n",
            "q1 y q2 = cargas (en Coulombios)\n",
            "r = distancia (en metros)\n",
            "\n",
            "Ingresa la carga q1 (C): 2\n",
            "Ingresa la carga q2 (C): 3\n",
            "Ingresa la distancia entre las cargas (m): 6\n",
            "La fuerza eléctrica entre las cargas es: 1.50e+09 N\n",
            " Fuerza REPULSIVA (cargas del mismo signo)\n"
          ]
        }
      ],
      "source": [
        "\n",
        "k = 8.99e9\n",
        "\n",
        "print(\"=== Calculadora Ley de Coulomb ===\")\n",
        "print(\"F = k * (q1 * q2) / r²\")\n",
        "print(\"Donde:\")\n",
        "print(\"q1 y q2 = cargas (en Coulombios)\")\n",
        "print(\"r = distancia (en metros)\\n\")\n",
        "\n",
        "q1 = float(input(\"Ingresa la carga q1 (C): \"))\n",
        "q2 = float(input(\"Ingresa la carga q2 (C): \"))\n",
        "r = float(input(\"Ingresa la distancia entre las cargas (m): \"))\n",
        "\n",
        "F = k * (q1 * q2) / (r**2)\n",
        "\n",
        "print(f\"La fuerza eléctrica entre las cargas es: {F:.2e} N\")\n",
        "\n",
        "if F > 0:\n",
        "    print(\" Fuerza REPULSIVA (cargas del mismo signo)\")\n",
        "elif F < 0:\n",
        "    print(\" Fuerza ATRACTIVA (cargas de signo opuesto)\")\n",
        "else:\n",
        "    print(\" No hay fuerza, alguna carga es cero o no hay distancia.\")\n"
      ]
    }
  ]
}