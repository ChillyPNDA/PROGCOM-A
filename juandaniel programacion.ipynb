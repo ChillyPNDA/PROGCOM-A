{
  "nbformat": 4,
  "nbformat_minor": 0,
  "metadata": {
    "colab": {
      "provenance": []
    },
    "kernelspec": {
      "name": "python3",
      "display_name": "Python 3"
    },
    "language_info": {
      "name": "python"
    }
  },
  "cells": [
    {
      "cell_type": "markdown",
      "source": [
        "# Prueba diagnóstica\n",
        "Aquí se desarrollan ejercicios sobre estructuras de selección\n",
        "\n",
        "Por pseint\n",
        "\n",
        "\n",
        "\n",
        "```\n",
        "si (condicion) entonces:\n",
        "pasan cosas divertidas :)\n",
        "sino\n",
        "Llórelo :(\n",
        "```\n",
        "Por algoritmia\n",
        "1. solicito la variable y almaceno en a\n",
        "2. comparo esa variable con otra llamada b\n",
        "\n"
      ],
      "metadata": {
        "id": "Fjr07bmrKISi"
      }
    },
    {
      "cell_type": "code",
      "execution_count": null,
      "metadata": {
        "id": "If2TkPnqJt6g"
      },
      "outputs": [],
      "source": []
    }
  ]
}