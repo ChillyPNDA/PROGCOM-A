{
  "nbformat": 4,
  "nbformat_minor": 0,
  "metadata": {
    "colab": {
      "provenance": [],
      "authorship_tag": "ABX9TyNpu+rt5g72+JaMOD8IelnI",
      "include_colab_link": true
    },
    "kernelspec": {
      "name": "python3",
      "display_name": "Python 3"
    },
    "language_info": {
      "name": "python"
    }
  },
  "cells": [
    {
      "cell_type": "markdown",
      "metadata": {
        "id": "view-in-github",
        "colab_type": "text"
      },
      "source": [
        "<a href=\"https://colab.research.google.com/github/ChillyPNDA/PROGCOM-A/blob/main/GQ3_CALCULADORA_LEY_COULOMB.ipynb\" target=\"_parent\"><img src=\"https://colab.research.google.com/assets/colab-badge.svg\" alt=\"Open In Colab\"/></a>"
      ]
    },
    {
      "cell_type": "code",
      "execution_count": null,
      "metadata": {
        "id": "pWVQ2hUvxd2v"
      },
      "outputs": [],
      "source": [
        "# Calculadora Ley de Coulomb en Python\n",
        "\n",
        "# Constante de Coulomb (N·m²/C²)\n",
        "k = 8.99e9\n",
        "\n",
        "print(\"=== Calculadora Ley de Coulomb ===\")\n",
        "print(\"F = k * (q1 * q2) / r²\")\n",
        "print(\"Donde:\")\n",
        "print(\"q1 y q2 = cargas (en Coulombios)\")\n",
        "print(\"r = distancia (en metros)\\n\")\n",
        "\n",
        "# Entrada de datos\n",
        "q1 = float(input(\"Ingresa la carga q1 (C): \"))\n",
        "q2 = float(input(\"Ingresa la carga q2 (C): \"))\n",
        "r = float(input(\"Ingresa la distancia entre las cargas (m): \"))\n",
        "\n",
        "# Cálculo de la fuerza\n",
        "F = k * (q1 * q2) / (r**2)\n",
        "\n",
        "# Mostrar resultado\n",
        "print(f\"\\nLa fuerza eléctrica entre las cargas es: {F:.2e} N\")\n",
        "\n",
        "# Dirección de la fuerza\n",
        "if F > 0:\n",
        "    print(\"👉 Fuerza REPULSIVA (cargas del mismo signo)\")\n",
        "elif F < 0:\n",
        "    print(\"👉 Fuerza ATRACTIVA (cargas de signo opuesto)\")\n",
        "else:\n",
        "    print(\"👉 No hay fuerza, alguna carga es cero o no hay distancia.\")\n"
      ]
    }
  ]
}