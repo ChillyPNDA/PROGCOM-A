{
  "nbformat": 4,
  "nbformat_minor": 0,
  "metadata": {
    "colab": {
      "provenance": [],
      "authorship_tag": "ABX9TyOUv7RMCD19ttIlukPIMWua",
      "include_colab_link": true
    },
    "kernelspec": {
      "name": "python3",
      "display_name": "Python 3"
    },
    "language_info": {
      "name": "python"
    }
  },
  "cells": [
    {
      "cell_type": "markdown",
      "metadata": {
        "id": "view-in-github",
        "colab_type": "text"
      },
      "source": [
        "<a href=\"https://colab.research.google.com/github/ChillyPNDA/PROGCOM-A/blob/main/Untitled0.ipynb\" target=\"_parent\"><img src=\"https://colab.research.google.com/assets/colab-badge.svg\" alt=\"Open In Colab\"/></a>"
      ]
    },
    {
      "cell_type": "markdown",
      "source": [
        "# Estructura if-else\n",
        "\n",
        "if (condicion):\n",
        "  entro aquí, si la condición es V\n",
        "  else:\n",
        "  entro aquí, sí la condición es F.\n",
        "  "
      ],
      "metadata": {
        "id": "WuLzkcXhvs1X"
      }
    },
    {
      "cell_type": "code",
      "execution_count": 6,
      "metadata": {
        "colab": {
          "base_uri": "https://localhost:8080/"
        },
        "id": "jgRU9vgJvo-1",
        "outputId": "a4eef579-4737-4948-a726-62c9c2bae1a4"
      },
      "outputs": [
        {
          "output_type": "stream",
          "name": "stdout",
          "text": [
            "ingrese un número34\n",
            "34 es un número positivo\n"
          ]
        }
      ],
      "source": [
        "#Escribe un programa que reciba un número e indique si es positivo\n",
        "n=int(input(\"ingrese un número\"))\n",
        "if n>=0:\n",
        " print(f\"{n} es un número positivo\")\n",
        "else:\n",
        "  print(n, \"NO es un número positivo\")"
      ]
    },
    {
      "cell_type": "markdown",
      "source": [
        "##Selección múltiple if-elif-else\n",
        "\n",
        "\n",
        "```\n",
        "if (condición1):\n",
        "  si se cumple condición1, entro\n",
        "  aquí\n",
        "\n",
        "elif(condición2):\n",
        "  si no se cumple condición1,\n",
        "  pero no se cumple condición2,\n",
        "  entro aquí\n",
        "\n",
        "else: Si no se cumple ninguna de\n",
        "las anteriores\n",
        "```\n",
        "\n"
      ],
      "metadata": {
        "id": "Uu8PH9hT0R8k"
      }
    },
    {
      "cell_type": "code",
      "source": [
        "if n>0:print(f\"{n} es un número poitivo\")\n",
        "elif n<0: print(f\"{n}NO es un número positivo\")\n",
        "else: print(f\"{n} es 0 y es un número positivo\")"
      ],
      "metadata": {
        "colab": {
          "base_uri": "https://localhost:8080/"
        },
        "id": "UBvWpqWr1RxL",
        "outputId": "4205e413-4ddd-4597-b833-9e58ef14a931"
      },
      "execution_count": 8,
      "outputs": [
        {
          "output_type": "stream",
          "name": "stdout",
          "text": [
            "34 es un número poitivo\n"
          ]
        }
      ]
    },
    {
      "cell_type": "markdown",
      "source": [
        "##Operador terniario\n",
        "Se usa cuando hay una condición a\n",
        "evaluar simple y se desea\n",
        "resolver en una línea de código\n",
        "\n",
        "```\n",
        "(valor de verdad V) if\n",
        "(condición) else (valor de verdad\n",
        "F)\n",
        "```\n",
        "\n",
        "\n",
        "\n"
      ],
      "metadata": {
        "id": "wVmMM0V81uY6"
      }
    },
    {
      "cell_type": "code",
      "source": [
        "print(f\"{n} es un número positivo\")if n>=0 else print (f\"{n} NO es un número positivo\")"
      ],
      "metadata": {
        "colab": {
          "base_uri": "https://localhost:8080/"
        },
        "id": "bJLDTCII3n26",
        "outputId": "319cc906-c97d-401e-a6ee-aba5581c58dd"
      },
      "execution_count": 7,
      "outputs": [
        {
          "output_type": "stream",
          "name": "stdout",
          "text": [
            "34 es un número positivo\n"
          ]
        }
      ]
    },
    {
      "cell_type": "markdown",
      "source": [
        "15 es un número positivo"
      ],
      "metadata": {
        "id": "GssCrzI_4Gco"
      }
    },
    {
      "cell_type": "code",
      "source": [
        "a=f\"{n} es un número positivo\" if n>=0 else f\"{n}NO es un número positivo\"\n",
        "print(a)"
      ],
      "metadata": {
        "colab": {
          "base_uri": "https://localhost:8080/"
        },
        "id": "PEF3fjkL4IQo",
        "outputId": "0bfde512-04bc-4223-cb7d-ee7ac5e48d3b"
      },
      "execution_count": 9,
      "outputs": [
        {
          "output_type": "stream",
          "name": "stdout",
          "text": [
            "34 es un número positivo\n"
          ]
        }
      ]
    },
    {
      "cell_type": "markdown",
      "source": [
        "##Escribe un programa que reciba una edad y determine si la persona es mayor de edad"
      ],
      "metadata": {
        "id": "Xe4nkLYZ64NW"
      }
    },
    {
      "cell_type": "code",
      "source": [
        "edad = int(input(\"Ingrese su edad:\"))\n",
        "if edad >= 18:\n",
        "  print(\"La persona es mayor de edad.\")\n",
        "else:\n",
        "  print(\"La persona no es mayor.\")"
      ],
      "metadata": {
        "colab": {
          "base_uri": "https://localhost:8080/"
        },
        "id": "0OB71RoI7AKe",
        "outputId": "aa42a451-c760-4fe9-b0c5-7a6a3389d992"
      },
      "execution_count": 10,
      "outputs": [
        {
          "output_type": "stream",
          "name": "stdout",
          "text": [
            "Ingrese su edad:5\n",
            "La persona no es mayor.\n"
          ]
        }
      ]
    },
    {
      "cell_type": "markdown",
      "source": [
        "#ELIF"
      ],
      "metadata": {
        "id": "UIFChDLH8bIN"
      }
    },
    {
      "cell_type": "code",
      "source": [
        "edad = int(input(\"Ingrese la edad\"))\n",
        "if edad <0:\n",
        "  print(\"La edad no es válida\")\n",
        "elif edad >= 18:\n",
        "  print(\"La persona es mayor\")\n",
        "else:\n",
        "    print(\"La persona es menor\")"
      ],
      "metadata": {
        "colab": {
          "base_uri": "https://localhost:8080/"
        },
        "id": "TVlxvODm8dBY",
        "outputId": "501421b9-aaf5-41ea-ff4a-564a030d0924"
      },
      "execution_count": 14,
      "outputs": [
        {
          "output_type": "stream",
          "name": "stdout",
          "text": [
            "Ingrese la edad15\n",
            "La persona es menor\n"
          ]
        }
      ]
    },
    {
      "cell_type": "markdown",
      "source": [
        "TERNIARIO"
      ],
      "metadata": {
        "id": "1wjvQFOt83xM"
      }
    },
    {
      "cell_type": "code",
      "source": [],
      "metadata": {
        "id": "GkKiNL81-Hrb"
      },
      "execution_count": null,
      "outputs": []
    },
    {
      "cell_type": "code",
      "source": [
        "a= f\"{n} es mayor de edad\" if edad <18 else f\"{n} NO eres mayor\"\n",
        "print (a)"
      ],
      "metadata": {
        "colab": {
          "base_uri": "https://localhost:8080/"
        },
        "id": "qKk7Zz3r8529",
        "outputId": "038cbd2b-1d86-45ce-86b3-ee9b842c4430"
      },
      "execution_count": 13,
      "outputs": [
        {
          "output_type": "stream",
          "name": "stdout",
          "text": [
            "34 es mayor de edad\n"
          ]
        }
      ]
    },
    {
      "cell_type": "markdown",
      "source": [
        "##PROGRAMA QUE RECIBA DOS NÜMEROS E IMPRIMA EL  MAYOR"
      ],
      "metadata": {
        "id": "wnq4EzsX-ZKD"
      }
    },
    {
      "cell_type": "markdown",
      "source": [
        "#IF ELSE"
      ],
      "metadata": {
        "id": "yTQ8ZnXR_jSi"
      }
    },
    {
      "cell_type": "code",
      "source": [
        "num1 = int(input(\"Ingrese el primer número\"))\n",
        "num2 = int(input(\"Ingresa el otro número\"))\n",
        "\n",
        "if num1 > num2:\n",
        "  print(f\"el mayor es: {num1}\")\n",
        "else:\n",
        "  print(f\"El mayor es: {num2}\")"
      ],
      "metadata": {
        "id": "ezbwlnjb-hKT"
      },
      "execution_count": null,
      "outputs": []
    },
    {
      "cell_type": "markdown",
      "source": [
        "#ELIF"
      ],
      "metadata": {
        "id": "DvoEieQr_fLC"
      }
    },
    {
      "cell_type": "code",
      "source": [
        "num1 = int(input(\"Ingrese el primer número\"))\n",
        "num2 = int(input(\"Ingresa el otro número\"))\n",
        "\n",
        "if num1 > num2:\n",
        "  print(f\"El mayor es: {num1}\")\n",
        "elif num2 > num1:\n",
        "  print(f\"EL mayor es: {num2}\")\n",
        "else:\n",
        "  print(\"ambos números son iguales\")"
      ],
      "metadata": {
        "colab": {
          "base_uri": "https://localhost:8080/"
        },
        "id": "91s_HU1U_gjR",
        "outputId": "f0711529-816f-4c86-8b6a-ee2ad81fa5bd"
      },
      "execution_count": 15,
      "outputs": [
        {
          "output_type": "stream",
          "name": "stdout",
          "text": [
            "Ingrese el primer número2\n",
            "Ingresa el otro número2\n",
            "ambos números son iguales\n"
          ]
        }
      ]
    },
    {
      "cell_type": "markdown",
      "source": [
        "#TERNIARIO"
      ],
      "metadata": {
        "id": "krAzdjxAAHNp"
      }
    },
    {
      "cell_type": "code",
      "source": [
        "num1 = int(input(\"Ingrese el primer número\"))\n",
        "num2 = int(input(\"Ingresa el otro número\"))\n",
        "\n",
        "resultado = num1 if num1 > num2 else num2\n",
        "print (f\"el mayor es: {resultado}\")"
      ],
      "metadata": {
        "colab": {
          "base_uri": "https://localhost:8080/"
        },
        "id": "aWtaLu69AL1x",
        "outputId": "58ae080c-0a1c-4346-8893-d761f49dff3f"
      },
      "execution_count": 16,
      "outputs": [
        {
          "output_type": "stream",
          "name": "stdout",
          "text": [
            "Ingrese el primer número1\n",
            "Ingresa el otro número2\n",
            "el mayor es: 2\n"
          ]
        }
      ]
    },
    {
      "cell_type": "markdown",
      "source": [
        "##PROGRAMA DE CALIFICACIÓN"
      ],
      "metadata": {
        "id": "4Advk4OUAdhx"
      }
    },
    {
      "cell_type": "markdown",
      "source": [
        "#IF ELSE"
      ],
      "metadata": {
        "id": "oh2_SLAJAjkM"
      }
    },
    {
      "cell_type": "code",
      "source": [
        "num = int(input(\"ingresa el número:\"))\n",
        "\n",
        "if num >= 0:\n",
        "  if num ==0:\n",
        "    print(\"el número es cero.\")\n",
        "  else:\n",
        "    print(\"el número es positivo\")\n",
        "else:\n",
        "  print(\"el número es negativo\")\n",
        ""
      ],
      "metadata": {
        "colab": {
          "base_uri": "https://localhost:8080/"
        },
        "id": "L0-rWE2qAmfh",
        "outputId": "8e55b908-695e-4cd0-a68d-df5adfa0bb45"
      },
      "execution_count": 18,
      "outputs": [
        {
          "output_type": "stream",
          "name": "stdout",
          "text": [
            "ingresa el número:4\n",
            "el número es positivo\n"
          ]
        }
      ]
    },
    {
      "cell_type": "markdown",
      "source": [
        "#ELIF"
      ],
      "metadata": {
        "id": "himQsrZJBYmJ"
      }
    },
    {
      "cell_type": "code",
      "source": [
        "num = int(input(\"ingresa el número:\"))\n",
        "\n",
        "if num > 0:\n",
        "  print (\"el número es positivo.\")\n",
        "elif num < 0:\n",
        "  print(\"el número es negativo.\")\n",
        "else:\n",
        "  print(\"el número es cero\")"
      ],
      "metadata": {
        "id": "PdHcND07BaM4"
      },
      "execution_count": null,
      "outputs": []
    },
    {
      "cell_type": "markdown",
      "source": [
        "#TERNIARIO"
      ],
      "metadata": {
        "id": "VQciFQWRBtVz"
      }
    },
    {
      "cell_type": "code",
      "source": [
        "num = int(input(\"ingrese el número:\"))\n",
        "\n",
        "resultado = \"positivo\" if num > 0 else (\"negativo\" if num<0 else \"cero\")\n",
        "print (f\" el número es {resultado}.\")"
      ],
      "metadata": {
        "id": "qEGMTh_ABvV7"
      },
      "execution_count": null,
      "outputs": []
    },
    {
      "cell_type": "markdown",
      "source": [
        "##NÚMERO SI ES PAR O IMPAR"
      ],
      "metadata": {
        "id": "5CFmzHZpCWGa"
      }
    },
    {
      "cell_type": "code",
      "source": [],
      "metadata": {
        "id": "kbSqmy3oCyy-"
      },
      "execution_count": null,
      "outputs": []
    }
  ]
}