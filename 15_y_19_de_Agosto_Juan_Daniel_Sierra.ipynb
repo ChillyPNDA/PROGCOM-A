{
  "nbformat": 4,
  "nbformat_minor": 0,
  "metadata": {
    "colab": {
      "provenance": [],
      "authorship_tag": "ABX9TyOYHcepxppMqCo7etmpbPCI",
      "include_colab_link": true
    },
    "kernelspec": {
      "name": "python3",
      "display_name": "Python 3"
    },
    "language_info": {
      "name": "python"
    }
  },
  "cells": [
    {
      "cell_type": "markdown",
      "metadata": {
        "id": "view-in-github",
        "colab_type": "text"
      },
      "source": [
        "<a href=\"https://colab.research.google.com/github/ChillyPNDA/PROGCOM-A/blob/main/15_y_19_de_Agosto_Juan_Daniel_Sierra.ipynb\" target=\"_parent\"><img src=\"https://colab.research.google.com/assets/colab-badge.svg\" alt=\"Open In Colab\"/></a>"
      ]
    },
    {
      "cell_type": "code",
      "execution_count": null,
      "metadata": {
        "id": "fj0byZAuI_tw"
      },
      "outputs": [],
      "source": []
    },
    {
      "cell_type": "markdown",
      "source": [
        "#Estructuras de repetición\n",
        "Permite repetir una o más acciones de acuerdo con una condición"
      ],
      "metadata": {
        "id": "thDZK2pbQgVy"
      }
    },
    {
      "cell_type": "markdown",
      "source": [
        "##Estructura para - for\n",
        "\n",
        "1. Cuando se sabe cuantas veces se repite una acción\n",
        "2. Está conformado por una condición inicial (CI) una\n",
        "condición final (CF) y pasos (frecuencia de repetición).\n",
        "3. Esta estructura no se detendrá, hasta alcanzr CF-1.\n",
        "\n",
        "Estructura general del for\n",
        "\n",
        "\n",
        "```\n",
        "for (variable) in range (CI, CF+1, paso):\n",
        "  Se repite (CI, CF+1, paso)/ veces una acción\n",
        "```\n",
        "\n",
        "Estructura resumida del for\n",
        "\n",
        "\n",
        "\n",
        "```\n",
        "for (variable) in range (cantidad):\n",
        "  Se repite cantidad de veces una acción\n",
        "```\n",
        "\n",
        "Estructura for como interación\n",
        "\n",
        "1. El para (for) itera tantas veces, como elementos tenga la lista\n",
        "2. La variable toma el valor de cada elemento de la lista\n",
        "por iteración.\n",
        "\n",
        "```\n",
        "Lista = [1, 2, 3, 4, 5]\n",
        "for (variable in Lista:\n",
        "  Se repite len(Lista)\n",
        "\n",
        "```\n",
        "\n",
        "\n",
        "\n",
        "\n",
        "\n",
        "\n",
        "\n",
        "\n"
      ],
      "metadata": {
        "id": "thzh-_BJQtHw"
      }
    },
    {
      "cell_type": "code",
      "source": [],
      "metadata": {
        "id": "z1S0jzRxQ8dx"
      },
      "execution_count": null,
      "outputs": []
    },
    {
      "cell_type": "markdown",
      "source": [
        "#Hacer la tabla de multiplicar de un número n"
      ],
      "metadata": {
        "id": "tgQ43Dn_SxwP"
      }
    },
    {
      "cell_type": "code",
      "source": [
        "n = int(input(\"Introduce un número\"))\n",
        "\n",
        "print (f\"Tabla del {n}\")\n",
        "for holitas in range (1, 11):\n",
        "  print(f\"{n} x {holitas} = {n*holitas}\")"
      ],
      "metadata": {
        "colab": {
          "base_uri": "https://localhost:8080/"
        },
        "id": "_UUjDPmgTIIO",
        "outputId": "898c307d-be20-49c9-f93c-90543a62b27c"
      },
      "execution_count": null,
      "outputs": [
        {
          "output_type": "stream",
          "name": "stdout",
          "text": [
            "Introduce un número5\n",
            "Tabla del 5\n",
            "5 x 1 = 5\n",
            "5 x 2 = 10\n",
            "5 x 3 = 15\n",
            "5 x 4 = 20\n",
            "5 x 5 = 25\n",
            "5 x 6 = 30\n",
            "5 x 7 = 35\n",
            "5 x 8 = 40\n",
            "5 x 9 = 45\n",
            "5 x 10 = 50\n"
          ]
        }
      ]
    },
    {
      "cell_type": "markdown",
      "source": [
        "#Todas las tablas del 1 - 10"
      ],
      "metadata": {
        "id": "EynGKxQsUjxW"
      }
    },
    {
      "cell_type": "code",
      "source": [
        "for n in range (1, 11):\n",
        "  print(f\"Tabla del {n}\")\n",
        "  for holitas in range (1, 11):\n",
        "    print(f\"{n} x {holitas} = {n*holitas}\")"
      ],
      "metadata": {
        "colab": {
          "base_uri": "https://localhost:8080/"
        },
        "id": "IRvxWcCuUmst",
        "outputId": "6ea631f1-5da9-4aca-f971-c4559d792ec6"
      },
      "execution_count": null,
      "outputs": [
        {
          "output_type": "stream",
          "name": "stdout",
          "text": [
            "Tabla del 1\n",
            "1 x 1 = 1\n",
            "1 x 2 = 2\n",
            "1 x 3 = 3\n",
            "1 x 4 = 4\n",
            "1 x 5 = 5\n",
            "1 x 6 = 6\n",
            "1 x 7 = 7\n",
            "1 x 8 = 8\n",
            "1 x 9 = 9\n",
            "1 x 10 = 10\n",
            "Tabla del 2\n",
            "2 x 1 = 2\n",
            "2 x 2 = 4\n",
            "2 x 3 = 6\n",
            "2 x 4 = 8\n",
            "2 x 5 = 10\n",
            "2 x 6 = 12\n",
            "2 x 7 = 14\n",
            "2 x 8 = 16\n",
            "2 x 9 = 18\n",
            "2 x 10 = 20\n",
            "Tabla del 3\n",
            "3 x 1 = 3\n",
            "3 x 2 = 6\n",
            "3 x 3 = 9\n",
            "3 x 4 = 12\n",
            "3 x 5 = 15\n",
            "3 x 6 = 18\n",
            "3 x 7 = 21\n",
            "3 x 8 = 24\n",
            "3 x 9 = 27\n",
            "3 x 10 = 30\n",
            "Tabla del 4\n",
            "4 x 1 = 4\n",
            "4 x 2 = 8\n",
            "4 x 3 = 12\n",
            "4 x 4 = 16\n",
            "4 x 5 = 20\n",
            "4 x 6 = 24\n",
            "4 x 7 = 28\n",
            "4 x 8 = 32\n",
            "4 x 9 = 36\n",
            "4 x 10 = 40\n",
            "Tabla del 5\n",
            "5 x 1 = 5\n",
            "5 x 2 = 10\n",
            "5 x 3 = 15\n",
            "5 x 4 = 20\n",
            "5 x 5 = 25\n",
            "5 x 6 = 30\n",
            "5 x 7 = 35\n",
            "5 x 8 = 40\n",
            "5 x 9 = 45\n",
            "5 x 10 = 50\n",
            "Tabla del 6\n",
            "6 x 1 = 6\n",
            "6 x 2 = 12\n",
            "6 x 3 = 18\n",
            "6 x 4 = 24\n",
            "6 x 5 = 30\n",
            "6 x 6 = 36\n",
            "6 x 7 = 42\n",
            "6 x 8 = 48\n",
            "6 x 9 = 54\n",
            "6 x 10 = 60\n",
            "Tabla del 7\n",
            "7 x 1 = 7\n",
            "7 x 2 = 14\n",
            "7 x 3 = 21\n",
            "7 x 4 = 28\n",
            "7 x 5 = 35\n",
            "7 x 6 = 42\n",
            "7 x 7 = 49\n",
            "7 x 8 = 56\n",
            "7 x 9 = 63\n",
            "7 x 10 = 70\n",
            "Tabla del 8\n",
            "8 x 1 = 8\n",
            "8 x 2 = 16\n",
            "8 x 3 = 24\n",
            "8 x 4 = 32\n",
            "8 x 5 = 40\n",
            "8 x 6 = 48\n",
            "8 x 7 = 56\n",
            "8 x 8 = 64\n",
            "8 x 9 = 72\n",
            "8 x 10 = 80\n",
            "Tabla del 9\n",
            "9 x 1 = 9\n",
            "9 x 2 = 18\n",
            "9 x 3 = 27\n",
            "9 x 4 = 36\n",
            "9 x 5 = 45\n",
            "9 x 6 = 54\n",
            "9 x 7 = 63\n",
            "9 x 8 = 72\n",
            "9 x 9 = 81\n",
            "9 x 10 = 90\n",
            "Tabla del 10\n",
            "10 x 1 = 10\n",
            "10 x 2 = 20\n",
            "10 x 3 = 30\n",
            "10 x 4 = 40\n",
            "10 x 5 = 50\n",
            "10 x 6 = 60\n",
            "10 x 7 = 70\n",
            "10 x 8 = 80\n",
            "10 x 9 = 90\n",
            "10 x 10 = 100\n"
          ]
        }
      ]
    },
    {
      "cell_type": "code",
      "source": [
        "print(f\"Tabla del {n}\")\n",
        "for holitas in range (10):\n",
        "  print(f\"{n} x {holitas+1} = {n*(holitas)}\")"
      ],
      "metadata": {
        "colab": {
          "base_uri": "https://localhost:8080/"
        },
        "id": "DqbfW4SMYG3L",
        "outputId": "49b0f507-7412-48a7-ce48-67bd817d150b"
      },
      "execution_count": null,
      "outputs": [
        {
          "output_type": "stream",
          "name": "stdout",
          "text": [
            "Tabla del 10\n",
            "10 x 1 = 0\n",
            "10 x 2 = 10\n",
            "10 x 3 = 20\n",
            "10 x 4 = 30\n",
            "10 x 5 = 40\n",
            "10 x 6 = 50\n",
            "10 x 7 = 60\n",
            "10 x 8 = 70\n",
            "10 x 9 = 80\n",
            "10 x 10 = 90\n"
          ]
        }
      ]
    },
    {
      "cell_type": "markdown",
      "source": [
        "#EJERCICIO DE LA TABLA DEL 7"
      ],
      "metadata": {
        "id": "-68nUScUYZsC"
      }
    },
    {
      "cell_type": "code",
      "source": [
        "n=7\n",
        "print(f\"Tabla del {n}\")\n",
        "for holitas in range (n,11*n,n):\n",
        "  print(f\"{n} x {(holitas/n)} = {n*int(holitas/n)}\")"
      ],
      "metadata": {
        "colab": {
          "base_uri": "https://localhost:8080/"
        },
        "id": "thdwXLCkbZ9g",
        "outputId": "1383fc5b-cbfb-43e9-a0fa-d70b824928e9"
      },
      "execution_count": null,
      "outputs": [
        {
          "output_type": "stream",
          "name": "stdout",
          "text": [
            "Tabla del 7\n",
            "7 x 1.0 = 7\n",
            "7 x 2.0 = 14\n",
            "7 x 3.0 = 21\n",
            "7 x 4.0 = 28\n",
            "7 x 5.0 = 35\n",
            "7 x 6.0 = 42\n",
            "7 x 7.0 = 49\n",
            "7 x 8.0 = 56\n",
            "7 x 9.0 = 63\n",
            "7 x 10.0 = 70\n"
          ]
        }
      ]
    },
    {
      "cell_type": "code",
      "source": [
        "numeros= [1,2,3,4,5,6,7,8,9,10]\n",
        "for num in numeros:\n",
        "  print(f\"{n} x {num} = {n*num}\")"
      ],
      "metadata": {
        "colab": {
          "base_uri": "https://localhost:8080/"
        },
        "id": "HFXlqYeCf0O8",
        "outputId": "522344b9-6f48-468a-f244-0aec62c07eab"
      },
      "execution_count": null,
      "outputs": [
        {
          "output_type": "stream",
          "name": "stdout",
          "text": [
            "7 x 1 = 7\n",
            "7 x 2 = 14\n",
            "7 x 3 = 21\n",
            "7 x 4 = 28\n",
            "7 x 5 = 35\n",
            "7 x 6 = 42\n",
            "7 x 7 = 49\n",
            "7 x 8 = 56\n",
            "7 x 9 = 63\n",
            "7 x 10 = 70\n"
          ]
        }
      ]
    },
    {
      "cell_type": "markdown",
      "source": [
        "##Listas\n",
        "1. es un tipo de datos\n",
        "2. Todos los elementos de una lista,\n",
        "**deben** separarse por comas\n",
        "3. Forma canónica para declarar una\n",
        "lista\n",
        "\n",
        "\n",
        "```\n",
        "(variable)=[]\n",
        "```\n",
        "\n",
        "ejemplo:\n",
        "flores=[\"amapola\", \"tulipan\", \"lengua de suegra\", dahlia, rosa]\n",
        "\n",
        "\n"
      ],
      "metadata": {
        "id": "AL4ilD7jx4Xg"
      }
    },
    {
      "cell_type": "code",
      "source": [
        "dahlia= 3 #variable de tipo numérica, int\n",
        "rosa= \"cinco\"# variable de tipo alfanumérico, str\n",
        "flores=[\"amapola\", \"tulipan\", \"lengua de suegra\" dahlia, rosa]"
      ],
      "metadata": {
        "id": "s33p77OzzApf"
      },
      "execution_count": null,
      "outputs": []
    },
    {
      "cell_type": "markdown",
      "source": [
        "4. Manual\n",
        "\n",
        "\n",
        "```\n",
        "Lista2= [dato1,dato2,dato3...datoN]\n",
        "```\n",
        "\n",
        "5. Siempre son finitas\n",
        "6. son indexadas\n",
        "\n",
        "\n",
        "```\n",
        "Lista2= [dato1,dato2,dato3...datoN]\n",
        "```\n",
        "dato1 está en el index\n",
        "dato2 está ubicado en el index 2\n",
        "7. Estructuras **para** la\n",
        "creación de listas\n",
        "\n",
        "```\n",
        "#Ejemplo: Crear una lista de 5 elementos\n",
        "lista=[]#Para que el programa sepa que\n",
        "es una lista\n",
        "for loquesea in range (5):\n",
        "  lista=input(\"Ingrese el nombre de una flor\")\n",
        "\n",
        "```\n",
        "\n",
        "\n",
        "\n",
        "\n",
        "\n"
      ],
      "metadata": {
        "id": "iPRgMn-ozSy-"
      }
    },
    {
      "cell_type": "code",
      "source": [
        "flores"
      ],
      "metadata": {
        "colab": {
          "base_uri": "https://localhost:8080/",
          "height": 141
        },
        "id": "_Lew7n2n3Vrj",
        "outputId": "45a65740-f00f-4a9f-e84d-bbe3ca908f55"
      },
      "execution_count": 5,
      "outputs": [
        {
          "output_type": "error",
          "ename": "NameError",
          "evalue": "name 'flores' is not defined",
          "traceback": [
            "\u001b[0;31m---------------------------------------------------------------------------\u001b[0m",
            "\u001b[0;31mNameError\u001b[0m                                 Traceback (most recent call last)",
            "\u001b[0;32m/tmp/ipython-input-500328359.py\u001b[0m in \u001b[0;36m<cell line: 0>\u001b[0;34m()\u001b[0m\n\u001b[0;32m----> 1\u001b[0;31m \u001b[0mflores\u001b[0m\u001b[0;34m\u001b[0m\u001b[0;34m\u001b[0m\u001b[0m\n\u001b[0m",
            "\u001b[0;31mNameError\u001b[0m: name 'flores' is not defined"
          ]
        }
      ]
    },
    {
      "cell_type": "code",
      "source": [
        "lista=[]\n",
        "for loquesea in range (5):\n",
        "  lista=input(\"Ingrese el nombre de una flor\")"
      ],
      "metadata": {
        "colab": {
          "base_uri": "https://localhost:8080/"
        },
        "id": "10YoRoCq19B-",
        "outputId": "f512fa6e-1714-4071-aad2-94b693f4f276"
      },
      "execution_count": 3,
      "outputs": [
        {
          "name": "stdout",
          "output_type": "stream",
          "text": [
            "Ingrese el nombre de una flordahlia\n",
            "Ingrese el nombre de una florrosa\n",
            "Ingrese el nombre de una florsiete cueros\n",
            "Ingrese el nombre de una flortulipan\n",
            "Ingrese el nombre de una flormargarita\n"
          ]
        }
      ]
    },
    {
      "cell_type": "code",
      "source": [
        "#Quiero saber quien esta en la primera posición\n",
        "flores[0]"
      ],
      "metadata": {
        "id": "hwYdtMGp3a5j"
      },
      "execution_count": null,
      "outputs": []
    },
    {
      "cell_type": "code",
      "source": [
        "flores[4]"
      ],
      "metadata": {
        "id": "XPReDsjY3iyj"
      },
      "execution_count": null,
      "outputs": []
    },
    {
      "cell_type": "code",
      "source": [
        "len(flores)"
      ],
      "metadata": {
        "id": "TMK-bUXi3l4L"
      },
      "execution_count": null,
      "outputs": []
    },
    {
      "cell_type": "code",
      "source": [
        "flores[len(flores)-1]"
      ],
      "metadata": {
        "id": "31aDQKk033zb"
      },
      "execution_count": null,
      "outputs": []
    },
    {
      "cell_type": "code",
      "source": [
        "flores.index(\"lengua de suegra\")"
      ],
      "metadata": {
        "id": "tlXqXl-S39iU"
      },
      "execution_count": null,
      "outputs": []
    },
    {
      "cell_type": "code",
      "source": [
        "type(lista)"
      ],
      "metadata": {
        "id": "t-Gvuqcn2JCU"
      },
      "execution_count": null,
      "outputs": []
    },
    {
      "cell_type": "code",
      "source": [
        "for i in flores:\n",
        "  print(i)"
      ],
      "metadata": {
        "id": "JNdlzwcv8wvP"
      },
      "execution_count": null,
      "outputs": []
    },
    {
      "cell_type": "markdown",
      "source": [
        "##EJERCICIOS DE XP ESTRUCTURAS DE REPETICIÓN"
      ],
      "metadata": {
        "id": "3kblInWa9lF_"
      }
    },
    {
      "cell_type": "markdown",
      "source": [
        "#1. PROGRAMA NÚMEROS DEL 1 AL 10\n",
        "\n",
        "\n"
      ],
      "metadata": {
        "id": "q7z6yQ8t9rpq"
      }
    },
    {
      "cell_type": "code",
      "source": [
        "for i in range (1,11):\n",
        "  print (i)"
      ],
      "metadata": {
        "colab": {
          "base_uri": "https://localhost:8080/"
        },
        "id": "NZ8j4A6P9oUv",
        "outputId": "7d430992-bd9d-4da0-a2fb-04106406bea7"
      },
      "execution_count": 8,
      "outputs": [
        {
          "output_type": "stream",
          "name": "stdout",
          "text": [
            "1\n",
            "2\n",
            "3\n",
            "4\n",
            "5\n",
            "6\n",
            "7\n",
            "8\n",
            "9\n",
            "10\n"
          ]
        }
      ]
    },
    {
      "cell_type": "code",
      "source": [
        "numeros = [i for i in range(1,11)]\n",
        "print(numeros)"
      ],
      "metadata": {
        "colab": {
          "base_uri": "https://localhost:8080/"
        },
        "id": "_K3MTA24-pKm",
        "outputId": "81c89c6b-13f0-4ddb-e1e3-8339472fd9da"
      },
      "execution_count": 10,
      "outputs": [
        {
          "output_type": "stream",
          "name": "stdout",
          "text": [
            "[1, 2, 3, 4, 5, 6, 7, 8, 9, 10]\n"
          ]
        }
      ]
    },
    {
      "cell_type": "markdown",
      "source": [
        "#2. SUMA DE NUMEROS DEL 1 AL 100"
      ],
      "metadata": {
        "id": "mZB6vgyC-7aW"
      }
    },
    {
      "cell_type": "code",
      "source": [
        "suma=0\n",
        "for i in range (1,101):\n",
        "  suma+= i\n",
        "print(\"la suma da:\", suma)"
      ],
      "metadata": {
        "colab": {
          "base_uri": "https://localhost:8080/"
        },
        "id": "0oHtyNkr-_1a",
        "outputId": "0705cdf4-0150-4673-9ae0-f02b9e5c21f2"
      },
      "execution_count": 12,
      "outputs": [
        {
          "output_type": "stream",
          "name": "stdout",
          "text": [
            "la suma da: 5050\n"
          ]
        }
      ]
    },
    {
      "cell_type": "code",
      "source": [
        "suma = sum([i for i in range(1,101)])\n",
        "print(\"la suma da:\", suma)"
      ],
      "metadata": {
        "colab": {
          "base_uri": "https://localhost:8080/"
        },
        "id": "0Q-ERmYp_SZp",
        "outputId": "14d5a2a8-9fb6-49ad-ddde-2d6a513fed96"
      },
      "execution_count": 13,
      "outputs": [
        {
          "output_type": "stream",
          "name": "stdout",
          "text": [
            "la suma da: 5050\n"
          ]
        }
      ]
    },
    {
      "cell_type": "markdown",
      "source": [
        "#3. MÚLTIPLOS DEL 3 ENTRE 1 Y **30**"
      ],
      "metadata": {
        "id": "gXL0xPx4_bHG"
      }
    },
    {
      "cell_type": "code",
      "source": [
        "for i in range(1,31):\n",
        "  if i % 3==0:\n",
        "    print(i)"
      ],
      "metadata": {
        "colab": {
          "base_uri": "https://localhost:8080/"
        },
        "id": "6N6W-vSY_kfu",
        "outputId": "1ac8dcd4-89aa-4c44-bded-6a5a621a8e89"
      },
      "execution_count": 14,
      "outputs": [
        {
          "output_type": "stream",
          "name": "stdout",
          "text": [
            "3\n",
            "6\n",
            "9\n",
            "12\n",
            "15\n",
            "18\n",
            "21\n",
            "24\n",
            "27\n",
            "30\n"
          ]
        }
      ]
    },
    {
      "cell_type": "code",
      "source": [
        "multiplos = [i for i in range(1,31) if i % 3==0]\n",
        "print(multiplos)"
      ],
      "metadata": {
        "colab": {
          "base_uri": "https://localhost:8080/"
        },
        "id": "WIDVM-CU_xNV",
        "outputId": "e44e252d-2673-453f-860b-1787a79df9b4"
      },
      "execution_count": 16,
      "outputs": [
        {
          "output_type": "stream",
          "name": "stdout",
          "text": [
            "[3, 6, 9, 12, 15, 18, 21, 24, 27, 30]\n"
          ]
        }
      ]
    },
    {
      "cell_type": "markdown",
      "source": [
        "#4. PROGRAMA QUE LEA UN NUMERO E IMPRIMA SU TABLA DEL 1 AL 10"
      ],
      "metadata": {
        "id": "M4ET6RNnAC19"
      }
    },
    {
      "cell_type": "code",
      "source": [
        "num = int(input(\"ingresa un número: \"))\n",
        "for i in range (1,11):\n",
        "  print(f\"{num} x {i} = {num * i}\")"
      ],
      "metadata": {
        "colab": {
          "base_uri": "https://localhost:8080/"
        },
        "id": "HjXJSH-kAQRV",
        "outputId": "df922632-645c-47f4-9d6a-72b6255e15eb"
      },
      "execution_count": 17,
      "outputs": [
        {
          "output_type": "stream",
          "name": "stdout",
          "text": [
            "ingresa un número: 5\n",
            "5 x 1 = 5\n",
            "5 x 2 = 10\n",
            "5 x 3 = 15\n",
            "5 x 4 = 20\n",
            "5 x 5 = 25\n",
            "5 x 6 = 30\n",
            "5 x 7 = 35\n",
            "5 x 8 = 40\n",
            "5 x 9 = 45\n",
            "5 x 10 = 50\n"
          ]
        }
      ]
    },
    {
      "cell_type": "code",
      "source": [
        "num = int(input(\"Ingrese un número: \"))\n",
        "tabla = [f\"{num} x {i} = {num * i}\" for i in range (1,11)]\n",
        "print(\"/n\".join(tabla))"
      ],
      "metadata": {
        "id": "XB8Mh9lRAtSm"
      },
      "execution_count": null,
      "outputs": []
    },
    {
      "cell_type": "markdown",
      "source": [
        "#5. PROGRAMA DE CÁLCULO DE NUMEROS Y PROMEDIO"
      ],
      "metadata": {
        "id": "6GlOWoKFBG5d"
      }
    },
    {
      "cell_type": "code",
      "source": [
        "num = int(input(\"Ingrese un número: \"))\n",
        "for i in [num]:\n",
        "  if i % 2==0\n",
        "  print(f\"{i} es par\")\n",
        "else:\n",
        "  print(f\"{i} es impar\")"
      ],
      "metadata": {
        "id": "6juTX9G7BL0E"
      },
      "execution_count": null,
      "outputs": []
    },
    {
      "cell_type": "code",
      "source": [
        "num = int(input(\"ingresa un número: \"))\n",
        "respuesta = [\"par\" if num % 2==0 else \"impar\"][0]\n",
        "print(f\"{num} es {respuesta}\")\n"
      ],
      "metadata": {
        "id": "B4FMSOZHBmP0"
      },
      "execution_count": null,
      "outputs": []
    },
    {
      "cell_type": "markdown",
      "source": [
        "#6. CÁLCULO DE NÚMEROS PARES ENTRE 1 Y EL NÚMERO INGRESADO POR EL USUARIO"
      ],
      "metadata": {
        "id": "PrxfiOofCEF1"
      }
    },
    {
      "cell_type": "code",
      "source": [
        "n = int(input(\"Ingresa un número: \"))\n",
        "cantidadpares = 0\n",
        "for i in range (1, n+1):\n",
        "  if i % 2==0:\n",
        "    cantidadpares+=1\n",
        "  print(f\"entre 1 y {n} hay {cont} números pares\")"
      ],
      "metadata": {
        "id": "9UtPYRxWCLKN"
      },
      "execution_count": null,
      "outputs": []
    },
    {
      "cell_type": "code",
      "source": [
        "n = int(input(\"Ingresa un número: \"))\n",
        "pares = [i for i in range(1, n+1) if i % 2 ==0]\n",
        "print (f\"entre 1 y {n} hay {len(pares)} números pares\")"
      ],
      "metadata": {
        "id": "X8N4t4hNDDdb"
      },
      "execution_count": null,
      "outputs": []
    },
    {
      "cell_type": "markdown",
      "source": [
        "#7. PROGRAMA DE CONTRASEÑAS"
      ],
      "metadata": {
        "id": "QPwkcPx5Dc_E"
      }
    },
    {
      "cell_type": "code",
      "source": [
        "apellido = input(\"Escribe tu apellido: \")\n",
        "clavecorrecta = apellido + str(len(apellido))\n",
        "\n",
        "clave = \"\"\n",
        "while clave != clavecorrecta:\n",
        "  clave = input(\"Escribe la contraseña (apellido + cantidad de letras): \")\n",
        "  if clave != clavecorrecta:\n",
        "    print(\"Contraseña incorrecta, intenta otra vez.\")\n",
        "\n",
        "print(\"¡Contraseña válida!\")"
      ],
      "metadata": {
        "id": "zErOrDgtDgqL"
      },
      "execution_count": null,
      "outputs": []
    }
  ]
}