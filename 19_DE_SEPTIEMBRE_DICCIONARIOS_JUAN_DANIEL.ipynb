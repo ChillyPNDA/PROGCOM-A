{
  "nbformat": 4,
  "nbformat_minor": 0,
  "metadata": {
    "colab": {
      "provenance": [],
      "authorship_tag": "ABX9TyPzb623Tg5p6tWfr7NpeA/P",
      "include_colab_link": true
    },
    "kernelspec": {
      "name": "python3",
      "display_name": "Python 3"
    },
    "language_info": {
      "name": "python"
    }
  },
  "cells": [
    {
      "cell_type": "markdown",
      "metadata": {
        "id": "view-in-github",
        "colab_type": "text"
      },
      "source": [
        "<a href=\"https://colab.research.google.com/github/ChillyPNDA/PROGCOM-A/blob/main/19_DE_SEPTIEMBRE_DICCIONARIOS_JUAN_DANIEL.ipynb\" target=\"_parent\"><img src=\"https://colab.research.google.com/assets/colab-badge.svg\" alt=\"Open In Colab\"/></a>"
      ]
    },
    {
      "cell_type": "code",
      "execution_count": null,
      "metadata": {
        "id": "R3VM0YFmdZXr"
      },
      "outputs": [],
      "source": []
    },
    {
      "cell_type": "markdown",
      "source": [
        "#DICCIONARIOS\n",
        "Un tipo de dato que tiene como sintaxis:\n",
        "\n",
        "```\n",
        "Nombre_dict={}\n",
        "dict2={\"clave\":valor}\n",
        "```\n",
        "* la clave o llave siempre es alfanumérica\n",
        "* Valor: Puede ser cualquier tipo de dato\n",
        " posee la ssiguientes características\n",
        "1. No tiene indexación\n",
        "2."
      ],
      "metadata": {
        "id": "AvPfrKakeNm2"
      }
    },
    {
      "cell_type": "code",
      "source": [
        "Lista=list(range(1,11))\n",
        "Lista[0]"
      ],
      "metadata": {
        "id": "d1XCzlJkfFZ9"
      },
      "execution_count": null,
      "outputs": []
    },
    {
      "cell_type": "code",
      "source": [
        "liga_justicia={\"superhéroes\": [\"Supermán\", \"Batman\", \"Wonder Woman\"],\n",
        "               \"villanos\":[\"Lex Luthor\",\"Joker\",\"Cheetah\"],\n",
        "               \"identidad secreta\":[\"Clark Kent\",\"Bruce Wayne\", \"Diana Prince\"]}"
      ],
      "metadata": {
        "id": "Aqe3HfU8fSMd"
      },
      "execution_count": 2,
      "outputs": []
    },
    {
      "cell_type": "code",
      "source": [
        "type(liga_justicia)"
      ],
      "metadata": {
        "colab": {
          "base_uri": "https://localhost:8080/"
        },
        "id": "HSybUtvmgm1M",
        "outputId": "665e7874-cc88-49a2-bde8-5d73fb1166c6"
      },
      "execution_count": 3,
      "outputs": [
        {
          "output_type": "execute_result",
          "data": {
            "text/plain": [
              "dict"
            ]
          },
          "metadata": {},
          "execution_count": 3
        }
      ]
    },
    {
      "cell_type": "code",
      "source": [
        "liga_justicia"
      ],
      "metadata": {
        "id": "skGT3fwXg3N0"
      },
      "execution_count": null,
      "outputs": []
    },
    {
      "cell_type": "code",
      "source": [
        "liga_justicia[\"superhéroes\"]"
      ],
      "metadata": {
        "colab": {
          "base_uri": "https://localhost:8080/"
        },
        "id": "YWQngqBsiO5r",
        "outputId": "34d67950-8feb-4da1-fa02-992190353910"
      },
      "execution_count": 4,
      "outputs": [
        {
          "output_type": "execute_result",
          "data": {
            "text/plain": [
              "['Supermán', 'Batman', 'Wonder Woman']"
            ]
          },
          "metadata": {},
          "execution_count": 4
        }
      ]
    },
    {
      "cell_type": "code",
      "source": [
        "liga_justicia[\"villanos\"]"
      ],
      "metadata": {
        "colab": {
          "base_uri": "https://localhost:8080/"
        },
        "id": "boTla_XCiZf7",
        "outputId": "fff901b8-2035-4e37-d48e-c900617ca694"
      },
      "execution_count": 5,
      "outputs": [
        {
          "output_type": "execute_result",
          "data": {
            "text/plain": [
              "['Lex Luthor', 'Joker', 'Cheetah']"
            ]
          },
          "metadata": {},
          "execution_count": 5
        }
      ]
    },
    {
      "cell_type": "code",
      "source": [
        "liga_justicia[\"identidad secreta\"][2]"
      ],
      "metadata": {
        "colab": {
          "base_uri": "https://localhost:8080/",
          "height": 36
        },
        "id": "ztVXETxHiqtR",
        "outputId": "2c5056ab-24a2-4cea-8b14-175de9cee2a3"
      },
      "execution_count": 9,
      "outputs": [
        {
          "output_type": "execute_result",
          "data": {
            "text/plain": [
              "'Diana Prince'"
            ],
            "application/vnd.google.colaboratory.intrinsic+json": {
              "type": "string"
            }
          },
          "metadata": {},
          "execution_count": 9
        }
      ]
    },
    {
      "cell_type": "markdown",
      "source": [
        "2. Puede almacenar cualquier tipo de\n",
        "valor\n",
        "3. Es mutable."
      ],
      "metadata": {
        "id": "_FjFicEOjq2R"
      }
    },
    {
      "cell_type": "markdown",
      "source": [
        ".keys(): método de lods diccionarios que\n",
        "me permite adquirir todas las llaves o\n",
        "claves del diccionario."
      ],
      "metadata": {
        "id": "RJxYQgqzliWX"
      }
    },
    {
      "cell_type": "code",
      "source": [
        "liga_justicia.keys()"
      ],
      "metadata": {
        "colab": {
          "base_uri": "https://localhost:8080/"
        },
        "id": "YPLyRrPqlU5Y",
        "outputId": "4141619f-5a2e-489f-b773-42ab1a24b4d7"
      },
      "execution_count": 10,
      "outputs": [
        {
          "output_type": "execute_result",
          "data": {
            "text/plain": [
              "dict_keys(['superhéroes', 'villanos', 'identidad secreta'])"
            ]
          },
          "metadata": {},
          "execution_count": 10
        }
      ]
    },
    {
      "cell_type": "markdown",
      "source": [
        ".copy():Crea duplicados de objetos"
      ],
      "metadata": {
        "id": "2nn0hGVxoOqM"
      }
    },
    {
      "cell_type": "code",
      "source": [
        "liga_justicia.copy()"
      ],
      "metadata": {
        "colab": {
          "base_uri": "https://localhost:8080/"
        },
        "id": "IB5rpU3plvD3",
        "outputId": "2df440aa-831c-48cd-f417-38f9fd9fde99"
      },
      "execution_count": 16,
      "outputs": [
        {
          "output_type": "execute_result",
          "data": {
            "text/plain": [
              "{'superhéroes': ['Supermán', 'Batman', 'Wonder Woman'],\n",
              " 'villanos': ['Lex Luthor', 'Joker', 'Cheetah'],\n",
              " 'identidad secreta': ['Clark Kent', 'Bruce Wayne', 'Diana Prince']}"
            ]
          },
          "metadata": {},
          "execution_count": 16
        }
      ]
    },
    {
      "cell_type": "markdown",
      "source": [
        ".get(): Método del diccionario para obtener un resultado"
      ],
      "metadata": {
        "id": "EFmAH5FxoVCk"
      }
    },
    {
      "cell_type": "code",
      "source": [
        "liga_justicia.get(\"villanos\")"
      ],
      "metadata": {
        "colab": {
          "base_uri": "https://localhost:8080/"
        },
        "id": "iUAHw0UumRU2",
        "outputId": "6ded0d9f-04dc-4142-8dd5-383277908225"
      },
      "execution_count": 21,
      "outputs": [
        {
          "output_type": "execute_result",
          "data": {
            "text/plain": [
              "['Lex Luthor', 'Joker', 'Cheetah']"
            ]
          },
          "metadata": {},
          "execution_count": 21
        }
      ]
    },
    {
      "cell_type": "markdown",
      "source": [
        ".fromkeys(): Crea un nuevo diccionario a partir de las claves"
      ],
      "metadata": {
        "id": "fZ2Q32ofocfU"
      }
    },
    {
      "cell_type": "code",
      "source": [
        "liga_justicia.fromkeys(\"superhéroes\")"
      ],
      "metadata": {
        "colab": {
          "base_uri": "https://localhost:8080/"
        },
        "id": "zChNk_UFm_s2",
        "outputId": "beef48b9-86e5-45cb-88f3-46075e6c1600"
      },
      "execution_count": 22,
      "outputs": [
        {
          "output_type": "execute_result",
          "data": {
            "text/plain": [
              "{'s': None,\n",
              " 'u': None,\n",
              " 'p': None,\n",
              " 'e': None,\n",
              " 'r': None,\n",
              " 'h': None,\n",
              " 'é': None,\n",
              " 'o': None}"
            ]
          },
          "metadata": {},
          "execution_count": 22
        }
      ]
    },
    {
      "cell_type": "markdown",
      "source": [
        ".items(): Devuelve una lista de tuplas"
      ],
      "metadata": {
        "id": "pSSJF_-ron40"
      }
    },
    {
      "cell_type": "code",
      "source": [
        "liga_justicia.items()"
      ],
      "metadata": {
        "colab": {
          "base_uri": "https://localhost:8080/"
        },
        "id": "l0UDEqIAnFnV",
        "outputId": "a00c8cca-ec1a-497b-c7b1-76a9634d049d"
      },
      "execution_count": 23,
      "outputs": [
        {
          "output_type": "execute_result",
          "data": {
            "text/plain": [
              "dict_items([('superhéroes', ['Supermán', 'Batman', 'Wonder Woman']), ('villanos', ['Lex Luthor', 'Joker', 'Cheetah']), ('identidad secreta', ['Clark Kent', 'Bruce Wayne', 'Diana Prince'])])"
            ]
          },
          "metadata": {},
          "execution_count": 23
        }
      ]
    },
    {
      "cell_type": "markdown",
      "source": [
        ".keys(): Devuelve un objeto de vista que contiene las claves de un diccionario"
      ],
      "metadata": {
        "id": "2vyTpb5CoxRD"
      }
    },
    {
      "cell_type": "code",
      "source": [
        "liga_justicia.keys()"
      ],
      "metadata": {
        "colab": {
          "base_uri": "https://localhost:8080/"
        },
        "id": "ufJr0V2wnJAN",
        "outputId": "0d56fa7f-8190-4471-88cc-8a89a4773725"
      },
      "execution_count": 24,
      "outputs": [
        {
          "output_type": "execute_result",
          "data": {
            "text/plain": [
              "dict_keys(['superhéroes', 'villanos', 'identidad secreta'])"
            ]
          },
          "metadata": {},
          "execution_count": 24
        }
      ]
    },
    {
      "cell_type": "markdown",
      "source": [
        ".pop(): Isrve para eliminar y devolver un elemento de un diccionario"
      ],
      "metadata": {
        "id": "LqBC77xgo8KF"
      }
    },
    {
      "cell_type": "code",
      "source": [
        "liga_justicia.pop(\"identidad secreta\")"
      ],
      "metadata": {
        "colab": {
          "base_uri": "https://localhost:8080/"
        },
        "id": "vv0t-laBnL4V",
        "outputId": "9f26f8e1-45e7-4de1-d0dd-a61402096073"
      },
      "execution_count": 26,
      "outputs": [
        {
          "output_type": "execute_result",
          "data": {
            "text/plain": [
              "['Clark Kent', 'Bruce Wayne', 'Diana Prince']"
            ]
          },
          "metadata": {},
          "execution_count": 26
        }
      ]
    },
    {
      "cell_type": "markdown",
      "source": [
        ".popitem(): Quita la entrada más reciente del diccionario"
      ],
      "metadata": {
        "id": "I0511q-YpC3D"
      }
    },
    {
      "cell_type": "code",
      "source": [
        "liga_justicia.popitem()"
      ],
      "metadata": {
        "colab": {
          "base_uri": "https://localhost:8080/"
        },
        "id": "K9z7RKFxnTwd",
        "outputId": "e47e458b-a1be-4bc3-9b54-eccf502be800"
      },
      "execution_count": 27,
      "outputs": [
        {
          "output_type": "execute_result",
          "data": {
            "text/plain": [
              "('villanos', ['Lex Luthor', 'Joker', 'Cheetah'])"
            ]
          },
          "metadata": {},
          "execution_count": 27
        }
      ]
    },
    {
      "cell_type": "markdown",
      "source": [
        ".setdefault(): Insertar una clave y su valor en un diccionario"
      ],
      "metadata": {
        "id": "eVov-kZ_pK50"
      }
    },
    {
      "cell_type": "code",
      "source": [
        "liga_justicia.setdefault(\"superhéroes\")"
      ],
      "metadata": {
        "colab": {
          "base_uri": "https://localhost:8080/"
        },
        "id": "nKSKxmDInXD9",
        "outputId": "507fabee-352d-4d82-ea40-4d40e53ea145"
      },
      "execution_count": 30,
      "outputs": [
        {
          "output_type": "execute_result",
          "data": {
            "text/plain": [
              "['Supermán', 'Batman', 'Wonder Woman']"
            ]
          },
          "metadata": {},
          "execution_count": 30
        }
      ]
    },
    {
      "cell_type": "markdown",
      "source": [
        ".update(): Actualiza el conjunto actual añadiendo elementos de otro diccionario"
      ],
      "metadata": {
        "id": "rVDvvQOgpRBb"
      }
    },
    {
      "cell_type": "code",
      "source": [
        "liga_justicia.update()"
      ],
      "metadata": {
        "id": "jZow2BYwnpKe"
      },
      "execution_count": 33,
      "outputs": []
    },
    {
      "cell_type": "markdown",
      "source": [
        ".values(): Devuelve un objeto de vista"
      ],
      "metadata": {
        "id": "WQxiWt03pbOr"
      }
    },
    {
      "cell_type": "code",
      "source": [
        "liga_justicia.values()"
      ],
      "metadata": {
        "colab": {
          "base_uri": "https://localhost:8080/"
        },
        "id": "xUoyTEFDn6UF",
        "outputId": "81ebc0c6-57f9-4b17-8d15-47c554a52999"
      },
      "execution_count": 37,
      "outputs": [
        {
          "output_type": "execute_result",
          "data": {
            "text/plain": [
              "dict_values([['Supermán', 'Batman', 'Wonder Woman'], None])"
            ]
          },
          "metadata": {},
          "execution_count": 37
        }
      ]
    }
  ]
}