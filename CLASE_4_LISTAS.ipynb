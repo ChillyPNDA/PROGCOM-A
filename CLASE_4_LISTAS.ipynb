{
  "nbformat": 4,
  "nbformat_minor": 0,
  "metadata": {
    "colab": {
      "provenance": [],
      "authorship_tag": "ABX9TyOoaXvQ53EM5W3GMoEW5eSL",
      "include_colab_link": true
    },
    "kernelspec": {
      "name": "python3",
      "display_name": "Python 3"
    },
    "language_info": {
      "name": "python"
    }
  },
  "cells": [
    {
      "cell_type": "markdown",
      "metadata": {
        "id": "view-in-github",
        "colab_type": "text"
      },
      "source": [
        "<a href=\"https://colab.research.google.com/github/ChillyPNDA/PROGCOM-A/blob/main/CLASE_4_LISTAS.ipynb\" target=\"_parent\"><img src=\"https://colab.research.google.com/assets/colab-badge.svg\" alt=\"Open In Colab\"/></a>"
      ]
    },
    {
      "cell_type": "code",
      "execution_count": null,
      "metadata": {
        "id": "9kE3f8GpClWD"
      },
      "outputs": [],
      "source": []
    },
    {
      "cell_type": "markdown",
      "source": [
        "#LISTAS\n",
        "1. Conjuntos de datos\n",
        "2. Es mutable (5000exp)\n",
        "3. Tienen indexación"
      ],
      "metadata": {
        "id": "QnlPVVMpCqqU"
      }
    },
    {
      "cell_type": "code",
      "source": [
        "lista=[\"maría\",4,True, \"hola\"]\n",
        "lista[0]"
      ],
      "metadata": {
        "id": "v111Cef2DUEk",
        "colab": {
          "base_uri": "https://localhost:8080/",
          "height": 35
        },
        "outputId": "320d56f2-6151-48a8-a395-42e67bc9c99f"
      },
      "execution_count": 2,
      "outputs": [
        {
          "output_type": "execute_result",
          "data": {
            "text/plain": [
              "'maría'"
            ],
            "application/vnd.google.colaboratory.intrinsic+json": {
              "type": "string"
            }
          },
          "metadata": {},
          "execution_count": 2
        }
      ]
    },
    {
      "cell_type": "markdown",
      "source": [
        "4. Son ordenadas\n",
        "\n",
        "Forma genérica\n",
        "\n",
        "``\n",
        "nombre_de_la_lista=[e1,e2,e3,e4...en]\n",
        "```\n",
        "\n"
      ],
      "metadata": {
        "id": "K2RUNJZqDlc0"
      }
    },
    {
      "cell_type": "code",
      "source": [
        "lista[3]"
      ],
      "metadata": {
        "colab": {
          "base_uri": "https://localhost:8080/",
          "height": 35
        },
        "id": "4UlRrar7FX4t",
        "outputId": "9d29fd7c-68eb-4716-f08c-35cd1a1eff60"
      },
      "execution_count": 5,
      "outputs": [
        {
          "output_type": "execute_result",
          "data": {
            "text/plain": [
              "'hola'"
            ],
            "application/vnd.google.colaboratory.intrinsic+json": {
              "type": "string"
            }
          },
          "metadata": {},
          "execution_count": 5
        }
      ]
    },
    {
      "cell_type": "code",
      "source": [
        "#Obteniendo el ultimo elemento de la lista\n",
        "lista[len(lista)-1]"
      ],
      "metadata": {
        "colab": {
          "base_uri": "https://localhost:8080/",
          "height": 35
        },
        "id": "WczoTgWcFbrU",
        "outputId": "35a8e640-5db6-46da-e02b-54032bb27c81"
      },
      "execution_count": 6,
      "outputs": [
        {
          "output_type": "execute_result",
          "data": {
            "text/plain": [
              "'hola'"
            ],
            "application/vnd.google.colaboratory.intrinsic+json": {
              "type": "string"
            }
          },
          "metadata": {},
          "execution_count": 6
        }
      ]
    },
    {
      "cell_type": "code",
      "source": [
        "lista[-1]"
      ],
      "metadata": {
        "colab": {
          "base_uri": "https://localhost:8080/",
          "height": 35
        },
        "id": "SabaxPvOFk8N",
        "outputId": "1d4bae01-059f-45a4-be1f-6ca556c593c7"
      },
      "execution_count": 7,
      "outputs": [
        {
          "output_type": "execute_result",
          "data": {
            "text/plain": [
              "'hola'"
            ],
            "application/vnd.google.colaboratory.intrinsic+json": {
              "type": "string"
            }
          },
          "metadata": {},
          "execution_count": 7
        }
      ]
    },
    {
      "cell_type": "code",
      "source": [
        "lista[:2]"
      ],
      "metadata": {
        "colab": {
          "base_uri": "https://localhost:8080/"
        },
        "id": "KpMJjSFDFm88",
        "outputId": "ec75ad3a-cacb-4939-9bfc-6c362943135e"
      },
      "execution_count": 8,
      "outputs": [
        {
          "output_type": "execute_result",
          "data": {
            "text/plain": [
              "['maría', 4]"
            ]
          },
          "metadata": {},
          "execution_count": 8
        }
      ]
    },
    {
      "cell_type": "code",
      "source": [
        "lista[1:4]"
      ],
      "metadata": {
        "id": "73eAS7HMGPjH"
      },
      "execution_count": null,
      "outputs": []
    },
    {
      "cell_type": "code",
      "source": [
        "for i in lista:\n",
        "  #Va a iterar 4 veces\n",
        "  #i va a tomar por vez el elemento de la lista\n",
        "  print(i)"
      ],
      "metadata": {
        "id": "1PFLZsJeHLme"
      },
      "execution_count": null,
      "outputs": []
    },
    {
      "cell_type": "code",
      "source": [
        "#Lista por extensión\n",
        "num=[1,2,3,4,5,6,7,8,9,10]\n",
        "#Lista por comprensión\n",
        "num2=list(range(1,11))\n",
        "print(num2)"
      ],
      "metadata": {
        "colab": {
          "base_uri": "https://localhost:8080/"
        },
        "id": "ydk7Tyr9Hy9L",
        "outputId": "6c0823d1-3477-41ee-b6d3-2462ea8d4592"
      },
      "execution_count": 9,
      "outputs": [
        {
          "output_type": "stream",
          "name": "stdout",
          "text": [
            "[1, 2, 3, 4, 5, 6, 7, 8, 9, 10]\n"
          ]
        }
      ]
    },
    {
      "cell_type": "markdown",
      "source": [
        "##Listas por comprensión\n",
        "Forma nueva de generar listas a partir de una expresión\n",
        "Sintaxis:\n",
        "\n",
        "\n",
        "```\n",
        "nombre_lista=[expresión for item in\n",
        "iterable if condicion]\n",
        "```\n",
        "\n",
        "Donde:\n",
        "1. expresión: Es el valor que generara al nueva lista\n",
        "2. item: variable que representa cada elemento dentro de la iteración.\n",
        "3. iterable: Cuántos elementos va a tener\n",
        "la nueva lista.\n",
        "4. COndición: es opcional y se emplea si los elementos deben cumplir algo."
      ],
      "metadata": {
        "id": "SJZjtwQtIe6L"
      }
    },
    {
      "cell_type": "code",
      "source": [
        "#Convertir una lista de oraciones en una lista de palabras\n",
        "oraciones=[\"aqui va una oracion\", \"aqui ba otra oracion\"]\n",
        "palabras=[i.split() for i in oraciones]\n",
        "palabras"
      ],
      "metadata": {
        "id": "s5ZfCWN6Jez6"
      },
      "execution_count": null,
      "outputs": []
    },
    {
      "cell_type": "code",
      "source": [
        "#Lista con los pares de num2\n",
        "pares=[num for num in num2 if num%2==0]\n",
        "pares"
      ],
      "metadata": {
        "id": "2LtQTFb1KhPB"
      },
      "execution_count": null,
      "outputs": []
    },
    {
      "cell_type": "code",
      "source": [
        "#clasificar si un numero es positivo o negativo\n",
        "numeros=[1,4,6,-20,-2,-69,4]\n",
        "lista2=[(n, \"positivo\") if n>0 else (n, \"negativo\") for n in numeros]\n",
        "lista2"
      ],
      "metadata": {
        "id": "xnVC76aHLx3I"
      },
      "execution_count": null,
      "outputs": []
    },
    {
      "cell_type": "code",
      "source": [
        "#Quiero obtener la inicial de nombres y ponerlo en mayuscula\n",
        "nombres=[\"camilo\", \"anderson\", \"joan\"]\n",
        "lista3=[x[0]]"
      ],
      "metadata": {
        "id": "O45hOID4QqjO"
      },
      "execution_count": null,
      "outputs": []
    }
  ]
}